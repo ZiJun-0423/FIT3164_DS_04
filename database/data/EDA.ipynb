{
 "cells": [
  {
   "cell_type": "code",
   "execution_count": 2,
   "metadata": {},
   "outputs": [],
   "source": [
    "import pandas as pd\n",
    "import numpy as np\n",
    "import os\n",
    "df_git = pd.read_csv(\"clean_data_git/git_data_merged.csv\")\n",
    "df_kaggle = pd.read_csv(\"clean_data_kaggle/cleaned_kaggle.csv\")"
   ]
  },
  {
   "cell_type": "code",
   "execution_count": null,
   "metadata": {},
   "outputs": [
    {
     "ename": "TypeError",
     "evalue": "NDFrame.to_sql() missing 2 required positional arguments: 'name' and 'con'",
     "output_type": "error",
     "traceback": [
      "\u001b[31m---------------------------------------------------------------------------\u001b[39m",
      "\u001b[31mTypeError\u001b[39m                                 Traceback (most recent call last)",
      "\u001b[36mCell\u001b[39m\u001b[36m \u001b[39m\u001b[32mIn[3]\u001b[39m\u001b[32m, line 19\u001b[39m\n\u001b[32m     17\u001b[39m df_git[\u001b[33m'\u001b[39m\u001b[33mmatch_id\u001b[39m\u001b[33m'\u001b[39m] = df_git.apply(\u001b[38;5;28;01mlambda\u001b[39;00m row: (row[\u001b[33m'\u001b[39m\u001b[33myear\u001b[39m\u001b[33m'\u001b[39m], row[\u001b[33m'\u001b[39m\u001b[33mround_num\u001b[39m\u001b[33m'\u001b[39m], \u001b[38;5;28mtuple\u001b[39m(\u001b[38;5;28msorted\u001b[39m([row[\u001b[33m'\u001b[39m\u001b[33mteam_1_team_name\u001b[39m\u001b[33m'\u001b[39m], row[\u001b[33m'\u001b[39m\u001b[33mteam_2_team_name\u001b[39m\u001b[33m'\u001b[39m]]))), axis=\u001b[32m1\u001b[39m)\n\u001b[32m     18\u001b[39m \u001b[38;5;28mset\u001b[39m(df_kaggle[\u001b[33m'\u001b[39m\u001b[33mmatch_id\u001b[39m\u001b[33m'\u001b[39m].unique()) - \u001b[38;5;28mset\u001b[39m(df_git[\u001b[33m'\u001b[39m\u001b[33mmatch_id\u001b[39m\u001b[33m'\u001b[39m].unique())\n\u001b[32m---> \u001b[39m\u001b[32m19\u001b[39m \u001b[43mdf_git\u001b[49m\u001b[43m.\u001b[49m\u001b[43mto_sql\u001b[49m\u001b[43m(\u001b[49m\u001b[43m)\u001b[49m\n",
      "\u001b[36mFile \u001b[39m\u001b[32mc:\\Users\\weezi\\Repositories\\FIT3164_DS_04\\venv\\Lib\\site-packages\\pandas\\util\\_decorators.py:333\u001b[39m, in \u001b[36mdeprecate_nonkeyword_arguments.<locals>.decorate.<locals>.wrapper\u001b[39m\u001b[34m(*args, **kwargs)\u001b[39m\n\u001b[32m    327\u001b[39m \u001b[38;5;28;01mif\u001b[39;00m \u001b[38;5;28mlen\u001b[39m(args) > num_allow_args:\n\u001b[32m    328\u001b[39m     warnings.warn(\n\u001b[32m    329\u001b[39m         msg.format(arguments=_format_argument_list(allow_args)),\n\u001b[32m    330\u001b[39m         \u001b[38;5;167;01mFutureWarning\u001b[39;00m,\n\u001b[32m    331\u001b[39m         stacklevel=find_stack_level(),\n\u001b[32m    332\u001b[39m     )\n\u001b[32m--> \u001b[39m\u001b[32m333\u001b[39m \u001b[38;5;28;01mreturn\u001b[39;00m \u001b[43mfunc\u001b[49m\u001b[43m(\u001b[49m\u001b[43m*\u001b[49m\u001b[43margs\u001b[49m\u001b[43m,\u001b[49m\u001b[43m \u001b[49m\u001b[43m*\u001b[49m\u001b[43m*\u001b[49m\u001b[43mkwargs\u001b[49m\u001b[43m)\u001b[49m\n",
      "\u001b[31mTypeError\u001b[39m: NDFrame.to_sql() missing 2 required positional arguments: 'name' and 'con'"
     ]
    }
   ],
   "source": [
    "# exploring rapidfuzz for name matching\n",
    "def clean_team_name(name):\n",
    "     return name.strip().lower()\n",
    "\n",
    "df_git['team_1_team_name'] = df_git['team_1_team_name'].astype(str).apply(clean_team_name)\n",
    "df_git['team_2_team_name'] = df_git['team_2_team_name'].astype(str).apply(clean_team_name)\n",
    "df_kaggle['team1'] = df_kaggle['team1'].astype(str).apply(clean_team_name)\n",
    "df_kaggle['team2'] = df_kaggle['team2'].astype(str).apply(clean_team_name)\n",
    "\n",
    "# df_kaggle['team2'].unique()\n",
    "# set(df_git['team_1_team_name'].unique()) - set(df_kaggle['team1'].unique())\n",
    "# set(df_git['team_2_team_name'].unique()) - set(df_kaggle['team2'].unique())\n",
    "# set(df_kaggle['team1'].unique()) - set(df_git['team_1_team_name'].unique())\n",
    "# set(df_kaggle['team2'].unique()) - set(df_git['team_2_team_name'].unique())\n",
    "\n",
    "df_kaggle['match_id'] = df_kaggle.apply(lambda row: (row['year'], row['round'], tuple(sorted([row['team1'], row['team2']]))), axis=1)\n",
    "df_git['match_id'] = df_git.apply(lambda row: (row['year'], row['round_num'], tuple(sorted([row['team_1_team_name'], row['team_2_team_name']]))), axis=1)\n",
    "set(df_kaggle['match_id'].unique()) - set(df_git['match_id'].unique())"
   ]
  },
  {
   "cell_type": "markdown",
   "metadata": {},
   "source": [
    "Still unsure why match id still does not match up, and some match_id from df_kaggle does not match df_git"
   ]
  }
 ],
 "metadata": {
  "kernelspec": {
   "display_name": "venv",
   "language": "python",
   "name": "python3"
  },
  "language_info": {
   "codemirror_mode": {
    "name": "ipython",
    "version": 3
   },
   "file_extension": ".py",
   "mimetype": "text/x-python",
   "name": "python",
   "nbconvert_exporter": "python",
   "pygments_lexer": "ipython3",
   "version": "3.11.9"
  }
 },
 "nbformat": 4,
 "nbformat_minor": 2
}
