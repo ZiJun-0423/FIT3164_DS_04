{
 "cells": [
  {
   "cell_type": "code",
   "execution_count": null,
   "id": "103e9c75",
   "metadata": {},
   "outputs": [],
   "source": [
    "import sys\n",
    "import os\n",
    "import numpy as np\n",
    "import pandas as pd\n",
    "\n",
    "# Add project root: FIT3164_DS_04/\n",
    "project_root = os.path.abspath(os.path.join(os.getcwd(), '..', '..'))\n",
    "sys.path.append(project_root)\n",
    "\n",
    "from database.schema import Team, Match, "
   ]
  },
  {
   "cell_type": "code",
   "execution_count": null,
   "id": "572d6858",
   "metadata": {},
   "outputs": [],
   "source": [
    "team_df = db_team.get_team_df()\n"
   ]
  }
 ],
 "metadata": {
  "kernelspec": {
   "display_name": "venv",
   "language": "python",
   "name": "python3"
  },
  "language_info": {
   "codemirror_mode": {
    "name": "ipython",
    "version": 3
   },
   "file_extension": ".py",
   "mimetype": "text/x-python",
   "name": "python",
   "nbconvert_exporter": "python",
   "pygments_lexer": "ipython3",
   "version": "3.11.9"
  }
 },
 "nbformat": 4,
 "nbformat_minor": 5
}
