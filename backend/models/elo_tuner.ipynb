{
 "cells": [
  {
   "cell_type": "code",
   "execution_count": 1,
   "id": "acb8499d",
   "metadata": {},
   "outputs": [
    {
     "data": {
      "text/plain": [
       "'c:\\\\Users\\\\weezi\\\\Repositories\\\\FIT3164_DS_04'"
      ]
     },
     "execution_count": 1,
     "metadata": {},
     "output_type": "execute_result"
    }
   ],
   "source": [
    "import sys\n",
    "import os\n",
    "\n",
    "# Adjust this to point to your project root directory\n",
    "project_root = os.path.abspath(os.path.join(os.getcwd(), '..\\\\..'))  # or '..\\\\..' if you're inside models/\n",
    "if project_root not in sys.path:\n",
    "    sys.path.insert(0, project_root)\n",
    "project_root"
   ]
  },
  {
   "cell_type": "code",
   "execution_count": 3,
   "id": "52b2a65c",
   "metadata": {},
   "outputs": [
    {
     "name": "stdout",
     "output_type": "stream",
     "text": [
      "64.35185185185185 0.6652705417922667 10 950 0\n",
      "63.888888888888886 0.6599832123793989 10 950 50\n",
      "63.42592592592593 0.6568427359541793 10 950 100\n",
      "64.35185185185185 0.6652705417922667 10 1000 0\n",
      "63.888888888888886 0.6599832123793988 10 1000 50\n",
      "63.42592592592593 0.6568427359541792 10 1000 100\n",
      "64.35185185185185 0.6652705417922667 10 1050 0\n",
      "63.888888888888886 0.6599832123793988 10 1050 50\n",
      "63.42592592592593 0.6568427359541793 10 1050 100\n",
      "62.96296296296296 0.6919230935278593 20 950 0\n",
      "63.42592592592593 0.684796455988998 20 950 50\n",
      "61.57407407407407 0.6799328323135673 20 950 100\n",
      "62.96296296296296 0.6919230935278593 20 1000 0\n",
      "63.42592592592593 0.684796455988998 20 1000 50\n",
      "61.57407407407407 0.6799328323135673 20 1000 100\n",
      "62.96296296296296 0.6919230935278594 20 1050 0\n",
      "63.42592592592593 0.684796455988998 20 1050 50\n",
      "61.57407407407407 0.6799328323135673 20 1050 100\n",
      "63.42592592592593 0.7246810080558985 30 950 0\n",
      "61.57407407407407 0.7173207773149004 30 950 50\n",
      "60.64814814814815 0.7121698073744135 30 950 100\n",
      "63.42592592592593 0.7246810080558985 30 1000 0\n",
      "61.57407407407407 0.7173207773149004 30 1000 50\n",
      "60.64814814814815 0.7121698073744135 30 1000 100\n",
      "63.42592592592593 0.7246810080558985 30 1050 0\n",
      "61.57407407407407 0.7173207773149003 30 1050 50\n",
      "60.64814814814815 0.7121698073744135 30 1050 100\n",
      "61.57407407407407 0.7583411295516892 40 950 0\n",
      "61.57407407407407 0.7509428313865731 40 950 50\n",
      "60.64814814814815 0.7460951926539489 40 950 100\n",
      "61.57407407407407 0.7583411295516892 40 1000 0\n",
      "61.57407407407407 0.7509428313865731 40 1000 50\n",
      "60.64814814814815 0.7460951926539489 40 1000 100\n",
      "61.57407407407407 0.7583411295516895 40 1050 0\n",
      "61.57407407407407 0.750942831386573 40 1050 50\n",
      "60.64814814814815 0.7460951926539489 40 1050 100\n"
     ]
    }
   ],
   "source": [
    "from itertools import product\n",
    "from sqlalchemy import extract\n",
    "from backend.models.elo_formula import calculate_elo\n",
    "from backend.models.elo_predictor import predict_from_elo, compute_accuracy, compute_log_loss\n",
    "from backend.db_access.db_base import get_db_session\n",
    "from backend.db_access.schema import Match\n",
    "session = get_db_session()\n",
    "best_accuracy = 0\n",
    "best_loss = 1\n",
    "best_params = {}\n",
    "train_matches = (session.query(Match)\n",
    "    .filter(extract('year', Match.date) >= 2010)\n",
    "    .filter(extract('year', Match.date) <= 2022)\n",
    "    .all())\n",
    "val_matches = (session.query(Match)\n",
    "    .filter(extract('year', Match.date) == 2023)\n",
    "    .all()\n",
    "    )\n",
    "for k, init, home in product([10, 20, 30, 40], [950, 1000, 1050], [0, 50, 100]):\n",
    "    ratings = calculate_elo(\n",
    "        train_matches,\n",
    "        k_value=k,\n",
    "        initial_elo=init,\n",
    "        home_advantage=home\n",
    "    )\n",
    "    # Predict results on validation matches using current ratings\n",
    "    predictions = predict_from_elo(ratings, val_matches)\n",
    "    val_dict = {match.id: match for match in val_matches}\n",
    "    acc = compute_accuracy(predictions, val_dict)\n",
    "    loss = compute_log_loss(predictions, val_dict)\n",
    "    \n",
    "    print(acc, loss, k, init, home)\n",
    "    if loss < best_loss:\n",
    "        best_loss = loss\n",
    "        # best_accuracy = acc\n",
    "        best_params = {'k': k, 'initial': init, 'home': home}"
   ]
  },
  {
   "cell_type": "code",
   "execution_count": 5,
   "id": "e6205017",
   "metadata": {},
   "outputs": [
    {
     "name": "stdout",
     "output_type": "stream",
     "text": [
      "Best Params: {'k': 10, 'initial': 1000, 'home': 100}\n",
      "Best Loss: 0.6568427359541792\n"
     ]
    }
   ],
   "source": [
    "print(\"Best Params:\", best_params)\n",
    "# print(\"Best Accuracy:\", best_accuracy)\n",
    "print(\"Best Loss:\", best_loss)\n"
   ]
  }
 ],
 "metadata": {
  "kernelspec": {
   "display_name": "venv",
   "language": "python",
   "name": "python3"
  },
  "language_info": {
   "codemirror_mode": {
    "name": "ipython",
    "version": 3
   },
   "file_extension": ".py",
   "mimetype": "text/x-python",
   "name": "python",
   "nbconvert_exporter": "python",
   "pygments_lexer": "ipython3",
   "version": "3.11.9"
  }
 },
 "nbformat": 4,
 "nbformat_minor": 5
}
