{
 "cells": [
  {
   "cell_type": "code",
   "execution_count": 2,
   "metadata": {},
   "outputs": [],
   "source": [
    "import pandas as pd\n",
    "import numpy as np\n",
    "import os\n",
    "\n",
    "df_merged = pd.read_csv('merged_data.csv') "
   ]
  },
  {
   "cell_type": "code",
   "execution_count": 3,
   "metadata": {},
   "outputs": [
    {
     "data": {
      "text/plain": [
       "array(['Brunswick St', 'Victoria Park', 'Corio Oval', 'Lake Oval',\n",
       "       'East Melbourne', 'Junction Oval', 'M.C.G.', 'Princes Park',\n",
       "       'S.C.G.', 'Punt Rd', 'Windy Hill', 'Glenferrie Oval', 'Arden St',\n",
       "       'Western Oval', 'Olympic Park', 'Kardinia Park', 'Yarraville Oval',\n",
       "       'Toorak Park', 'Euroa', 'North Hobart', 'Yallourn', 'Albury',\n",
       "       'Brisbane Exhibition', 'Moorabbin Oval', 'Coburg Oval',\n",
       "       'Waverley Park', 'Gabba', 'Subiaco', 'Carrara', 'W.A.C.A.',\n",
       "       'Football Park', 'Bruce Stadium', 'Manuka Oval', 'Docklands',\n",
       "       'York Park', 'Stadium Australia', 'Marrara Oval',\n",
       "       \"Cazaly's Stadium\", 'Adelaide Oval', 'Bellerive Oval', 'Blacktown',\n",
       "       'Sydney Showground', 'Wellington', 'Traeger Park',\n",
       "       'Jiangwan Stadium', 'Eureka Stadium', 'Perth Stadium',\n",
       "       'Riverway Stadium', 'Norwood Oval', 'Summit Sports Park'],\n",
       "      dtype=object)"
      ]
     },
     "execution_count": 3,
     "metadata": {},
     "output_type": "execute_result"
    }
   ],
   "source": [
    "df_merged['venue'].unique()"
   ]
  }
 ],
 "metadata": {
  "kernelspec": {
   "display_name": "venv",
   "language": "python",
   "name": "python3"
  },
  "language_info": {
   "codemirror_mode": {
    "name": "ipython",
    "version": 3
   },
   "file_extension": ".py",
   "mimetype": "text/x-python",
   "name": "python",
   "nbconvert_exporter": "python",
   "pygments_lexer": "ipython3",
   "version": "3.11.9"
  }
 },
 "nbformat": 4,
 "nbformat_minor": 2
}
