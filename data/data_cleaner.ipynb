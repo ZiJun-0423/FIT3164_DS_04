{
 "cells": [
  {
   "cell_type": "code",
   "execution_count": 2,
   "metadata": {},
   "outputs": [],
   "source": [
    "import pandas as pd\n",
    "import numpy as np"
   ]
  },
  {
   "cell_type": "code",
   "execution_count": 3,
   "metadata": {},
   "outputs": [
    {
     "data": {
      "text/plain": [
       "0         21-8\n",
       "1         16-9\n",
       "2         25-9\n",
       "3        11-13\n",
       "4          8-8\n",
       "         ...  \n",
       "18521     8-10\n",
       "18522     15-4\n",
       "18523     12-8\n",
       "18524      8-7\n",
       "18525    11-13\n",
       "Name: behinds, Length: 18526, dtype: object"
      ]
     },
     "execution_count": 3,
     "metadata": {},
     "output_type": "execute_result"
    }
   ],
   "source": [
    "#null handling\n",
    "df = pd.read_csv('afl_game_by_game_results_1965_2022.csv')\n",
    "df.isnull().sum()\n",
    "\n",
    "#replace with 0\n",
    "df['behinds']"
   ]
  },
  {
   "cell_type": "code",
   "execution_count": 4,
   "metadata": {},
   "outputs": [],
   "source": [
    "stats_columns = ['kicks', 'marks', 'handballs', 'disposals', 'goals', 'behinds', 'hit_outs', 'tackles', 'rebound_50s', \n",
    "                 'inside_50s', 'clearances', 'clangers', 'freekicks_for', 'freekicks_agains', 'brownlow_votes', \n",
    "                 'contested_possesions', 'uncontested_possesions', 'contested_marks', 'marks_inside_50', 'one_percenters',\n",
    "                 'bounces', 'goal_assist']\n",
    "\n",
    "\n"
   ]
  },
  {
   "cell_type": "code",
   "execution_count": 5,
   "metadata": {},
   "outputs": [],
   "source": [
    "#splitting the stats to 2 teams\n",
    "for col in stats_columns:\n",
    "    #using regexp to filter off all incorrect formats for stats\n",
    "    df[col] = df[col].where(df[col].str.fullmatch(r'^\\d+-\\d+$', na=False), np.nan)\n",
    "    \n",
    "    # Split the stats into two columns for each team (team1_stats, team2_stats)\n",
    "    df[[f'{col}_team1', f'{col}_team2']] = df[col].str.split('-',expand=True)\n",
    "    \n",
    "    # Convert these columns to numeric values\n",
    "    df[f'{col}_team1'] = pd.to_numeric(df[f'{col}_team1'], errors='coerce')\n",
    "    df[f'{col}_team2'] = pd.to_numeric(df[f'{col}_team2'], errors='coerce')\n",
    "\n",
    "#Calculate the total score for each team: goals * 6 + behinds\n",
    "df['score_team1'] = df['goals_team1'] * 6 + df['behinds_team1']\n",
    "df['score_team2'] = df['goals_team2'] * 6 + df['behinds_team2']\n",
    "\n",
    "#dropping all original stat columns \n",
    "df = df.drop(columns= stats_columns)\n"
   ]
  },
  {
   "cell_type": "code",
   "execution_count": 6,
   "metadata": {},
   "outputs": [],
   "source": [
    "#creating match_id with year, round, teams playing\n",
    "df['match_id'] = df.apply(lambda row: tuple([row['year'], row['round'], sorted([row['team'], row['Opponent']])]), axis=1)\n",
    "\n",
    "#drop duplicates\n",
    "df = df.drop_duplicates(subset = 'match_id', keep= 'first')\n"
   ]
  },
  {
   "cell_type": "code",
   "execution_count": 7,
   "metadata": {},
   "outputs": [],
   "source": [
    "#dropping unused columns\n",
    "df.drop(columns= ['Unnamed: 0.1', 'Unnamed: 0', 'match_id'], inplace= True)\n",
    "df = df.sort_values(by=['year', 'round', 'team'])\n",
    "df.columns = df.columns.str.strip()"
   ]
  },
  {
   "cell_type": "code",
   "execution_count": 8,
   "metadata": {},
   "outputs": [],
   "source": [
    "#export\n",
    "df.to_csv('cleanish.csv')"
   ]
  }
 ],
 "metadata": {
  "kernelspec": {
   "display_name": "Python 3",
   "language": "python",
   "name": "python3"
  },
  "language_info": {
   "codemirror_mode": {
    "name": "ipython",
    "version": 3
   },
   "file_extension": ".py",
   "mimetype": "text/x-python",
   "name": "python",
   "nbconvert_exporter": "python",
   "pygments_lexer": "ipython3",
   "version": "3.12.4"
  }
 },
 "nbformat": 4,
 "nbformat_minor": 2
}
